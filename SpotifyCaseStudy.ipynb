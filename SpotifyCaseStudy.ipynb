{
 "cells": [
  {
   "cell_type": "code",
   "execution_count": 1,
   "metadata": {
    "ExecuteTime": {
     "end_time": "2020-06-28T20:11:41.504477Z",
     "start_time": "2020-06-28T20:11:40.849840Z"
    }
   },
   "outputs": [
    {
     "name": "stdout",
     "output_type": "stream",
     "text": [
      "/Users/annadudek/00_DataMasked\n"
     ]
    }
   ],
   "source": [
    "import pandas as pd \n",
    "import numpy as np \n",
    "import os \n",
    "\n",
    "\n",
    "\n",
    "\n",
    "wd = os.getcwd()\n",
    "print(wd)\n",
    "\n",
    "## Github with answers: https://github.com/JifuZhao/DS-Take-Home/blob/master/01.%20Conversion%20Rate.ipynb "
   ]
  },
  {
   "cell_type": "code",
   "execution_count": 7,
   "metadata": {
    "ExecuteTime": {
     "end_time": "2020-06-28T20:13:46.765466Z",
     "start_time": "2020-06-28T20:13:45.239013Z"
    }
   },
   "outputs": [
    {
     "data": {
      "text/html": [
       "<div>\n",
       "<style scoped>\n",
       "    .dataframe tbody tr th:only-of-type {\n",
       "        vertical-align: middle;\n",
       "    }\n",
       "\n",
       "    .dataframe tbody tr th {\n",
       "        vertical-align: top;\n",
       "    }\n",
       "\n",
       "    .dataframe thead th {\n",
       "        text-align: right;\n",
       "    }\n",
       "</style>\n",
       "<table border=\"1\" class=\"dataframe\">\n",
       "  <thead>\n",
       "    <tr style=\"text-align: right;\">\n",
       "      <th></th>\n",
       "      <th>position</th>\n",
       "      <th>trackname</th>\n",
       "      <th>artist</th>\n",
       "      <th>streams</th>\n",
       "      <th>url</th>\n",
       "      <th>date</th>\n",
       "    </tr>\n",
       "  </thead>\n",
       "  <tbody>\n",
       "  </tbody>\n",
       "</table>\n",
       "</div>"
      ],
      "text/plain": [
       "Empty DataFrame\n",
       "Columns: [position, trackname, artist, streams, url, date]\n",
       "Index: []"
      ]
     },
     "execution_count": 7,
     "metadata": {},
     "output_type": "execute_result"
    }
   ],
   "source": [
    "data_raw=pd.read_csv(\"https://drive.google.com/uc?export=download&id=1KvxyyF3QCtvIx0J7_8iWDEtFQpLgd0Yq\")\n",
    "data_raw.head()\n",
    "\n",
    "\n",
    "spotify_data=pd.DataFrame(columns = ['position', 'trackname', 'artist', 'streams', 'url', 'date'])\n",
    "spotify_data\n",
    "\n"
   ]
  },
  {
   "cell_type": "code",
   "execution_count": 13,
   "metadata": {
    "ExecuteTime": {
     "end_time": "2020-06-29T11:28:01.725808Z",
     "start_time": "2020-06-29T11:28:01.717060Z"
    }
   },
   "outputs": [
    {
     "data": {
      "text/html": [
       "<div>\n",
       "<style scoped>\n",
       "    .dataframe tbody tr th:only-of-type {\n",
       "        vertical-align: middle;\n",
       "    }\n",
       "\n",
       "    .dataframe tbody tr th {\n",
       "        vertical-align: top;\n",
       "    }\n",
       "\n",
       "    .dataframe thead th {\n",
       "        text-align: right;\n",
       "    }\n",
       "</style>\n",
       "<table border=\"1\" class=\"dataframe\">\n",
       "  <thead>\n",
       "    <tr style=\"text-align: right;\">\n",
       "      <th></th>\n",
       "      <th>country</th>\n",
       "      <th>age</th>\n",
       "      <th>new_user</th>\n",
       "      <th>source</th>\n",
       "      <th>total_pages_visited</th>\n",
       "      <th>converted</th>\n",
       "    </tr>\n",
       "  </thead>\n",
       "  <tbody>\n",
       "    <tr>\n",
       "      <th>0</th>\n",
       "      <td>UK</td>\n",
       "      <td>25</td>\n",
       "      <td>1</td>\n",
       "      <td>Ads</td>\n",
       "      <td>1</td>\n",
       "      <td>0</td>\n",
       "    </tr>\n",
       "    <tr>\n",
       "      <th>1</th>\n",
       "      <td>US</td>\n",
       "      <td>23</td>\n",
       "      <td>1</td>\n",
       "      <td>Seo</td>\n",
       "      <td>5</td>\n",
       "      <td>0</td>\n",
       "    </tr>\n",
       "    <tr>\n",
       "      <th>2</th>\n",
       "      <td>US</td>\n",
       "      <td>28</td>\n",
       "      <td>1</td>\n",
       "      <td>Seo</td>\n",
       "      <td>4</td>\n",
       "      <td>0</td>\n",
       "    </tr>\n",
       "    <tr>\n",
       "      <th>3</th>\n",
       "      <td>China</td>\n",
       "      <td>39</td>\n",
       "      <td>1</td>\n",
       "      <td>Seo</td>\n",
       "      <td>5</td>\n",
       "      <td>0</td>\n",
       "    </tr>\n",
       "    <tr>\n",
       "      <th>4</th>\n",
       "      <td>US</td>\n",
       "      <td>30</td>\n",
       "      <td>1</td>\n",
       "      <td>Seo</td>\n",
       "      <td>6</td>\n",
       "      <td>0</td>\n",
       "    </tr>\n",
       "  </tbody>\n",
       "</table>\n",
       "</div>"
      ],
      "text/plain": [
       "  country  age  new_user source  total_pages_visited  converted\n",
       "0      UK   25         1    Ads                    1          0\n",
       "1      US   23         1    Seo                    5          0\n",
       "2      US   28         1    Seo                    4          0\n",
       "3   China   39         1    Seo                    5          0\n",
       "4      US   30         1    Seo                    6          0"
      ]
     },
     "execution_count": 13,
     "metadata": {},
     "output_type": "execute_result"
    }
   ],
   "source": [
    "data_raw.head()x"
   ]
  },
  {
   "cell_type": "code",
   "execution_count": 38,
   "metadata": {
    "ExecuteTime": {
     "end_time": "2020-06-29T11:32:29.134072Z",
     "start_time": "2020-06-29T11:32:29.110304Z"
    }
   },
   "outputs": [],
   "source": [
    "table1=pd.DataFrame(data_raw.groupby('country')['total_pages_visited'].agg(['mean',\n",
    "                    'count'])).sort_values('count', ascending=False)\n",
    "\n",
    "table1['pct_of_total']=table1['count']/table1['count'].sum()\n",
    " "
   ]
  },
  {
   "cell_type": "code",
   "execution_count": 44,
   "metadata": {
    "ExecuteTime": {
     "end_time": "2020-06-29T11:35:27.227025Z",
     "start_time": "2020-06-29T11:35:27.223618Z"
    }
   },
   "outputs": [
    {
     "name": "stdout",
     "output_type": "stream",
     "text": [
      "n = 1 and n+5 = 6\n",
      "n = 2 and n+5 = 7\n",
      "n = 3 and n+5 = 8\n",
      "n = 4 and n+5 = 9\n"
     ]
    }
   ],
   "source": [
    "numbers = [1,2,3,4]\n",
    "for n in numbers: \n",
    "    print(f\"n = {n} and n+5 = {n+5}\") "
   ]
  },
  {
   "cell_type": "code",
   "execution_count": 61,
   "metadata": {
    "ExecuteTime": {
     "end_time": "2020-06-29T12:15:02.539964Z",
     "start_time": "2020-06-29T12:15:02.531806Z"
    }
   },
   "outputs": [
    {
     "data": {
      "text/plain": [
       "mean                 4.930160\n",
       "count           178092.000000\n",
       "pct_of_total         0.563226\n",
       "Name: US, dtype: float64"
      ]
     },
     "execution_count": 61,
     "metadata": {},
     "output_type": "execute_result"
    }
   ],
   "source": [
    "## iloc for rows \n",
    "\n",
    "table1.iloc[0]  # first row of dataframe \n",
    "table1.iloc[0:5] # first five rows of dataframe\n",
    "\n",
    "table1.iloc[:,0] # first column of data frame (first_name)\n",
    "\n",
    "table1.loc['US']"
   ]
  },
  {
   "cell_type": "code",
   "execution_count": 62,
   "metadata": {
    "ExecuteTime": {
     "end_time": "2020-06-29T12:40:09.031160Z",
     "start_time": "2020-06-29T12:40:09.023776Z"
    }
   },
   "outputs": [
    {
     "data": {
      "text/plain": [
       "0    orange\n",
       "1    banana\n",
       "2    orange\n",
       "3    banana\n",
       "dtype: object"
      ]
     },
     "execution_count": 62,
     "metadata": {},
     "output_type": "execute_result"
    }
   ],
   "source": [
    "# s.str.contains(\"d\")\n",
    "data = pd.Series(['apple','banana','apple', 'banana'])\n",
    "data.str.replace('apple', 'orange')"
   ]
  },
  {
   "cell_type": "code",
   "execution_count": null,
   "metadata": {},
   "outputs": [],
   "source": [
    "pd.to_datetime"
   ]
  },
  {
   "cell_type": "code",
   "execution_count": 76,
   "metadata": {
    "ExecuteTime": {
     "end_time": "2020-06-29T14:57:43.700189Z",
     "start_time": "2020-06-29T14:57:43.691831Z"
    }
   },
   "outputs": [
    {
     "name": "stdout",
     "output_type": "stream",
     "text": [
      "1\n",
      "2\n",
      "buzz\n",
      "4\n",
      "fizz\n",
      "buzz\n",
      "7\n",
      "8\n",
      "buzz\n",
      "fizz\n",
      "11\n",
      "buzz\n",
      "13\n",
      "14\n",
      "fixbuzz\n",
      "16\n",
      "17\n",
      "buzz\n",
      "19\n",
      "fizz\n",
      "buzz\n",
      "22\n",
      "23\n",
      "buzz\n",
      "fizz\n",
      "26\n",
      "buzz\n",
      "28\n",
      "29\n",
      "fixbuzz\n",
      "31\n",
      "32\n",
      "buzz\n",
      "34\n",
      "fizz\n",
      "buzz\n",
      "37\n",
      "38\n",
      "buzz\n",
      "fizz\n",
      "41\n",
      "buzz\n",
      "43\n",
      "44\n",
      "fixbuzz\n",
      "46\n",
      "47\n",
      "buzz\n",
      "49\n",
      "fizz\n",
      "buzz\n",
      "52\n",
      "53\n",
      "buzz\n",
      "fizz\n",
      "56\n",
      "buzz\n",
      "58\n",
      "59\n",
      "fixbuzz\n",
      "61\n",
      "62\n",
      "buzz\n",
      "64\n",
      "fizz\n",
      "buzz\n",
      "67\n",
      "68\n",
      "buzz\n",
      "fizz\n",
      "71\n",
      "buzz\n",
      "73\n",
      "74\n",
      "fixbuzz\n",
      "76\n",
      "77\n",
      "buzz\n",
      "79\n",
      "fizz\n",
      "buzz\n",
      "82\n",
      "83\n",
      "buzz\n",
      "fizz\n",
      "86\n",
      "buzz\n",
      "88\n",
      "89\n",
      "fixbuzz\n",
      "91\n",
      "92\n",
      "buzz\n",
      "94\n",
      "fizz\n",
      "buzz\n",
      "97\n",
      "98\n",
      "buzz\n"
     ]
    }
   ],
   "source": [
    "import numpy as np \n",
    "\n",
    "numbers = range(1,100)\n",
    "type(numbers)\n",
    "\n",
    "for n in numbers: \n",
    "    if (n/3).is_integer() and (n/5).is_integer():\n",
    "        print('fixbuzz')\n",
    "    elif (n/3).is_integer():\n",
    "        print('buzz')\n",
    "    elif (n/5).is_integer():\n",
    "        print('fizz')   \n",
    "    else: print(n)"
   ]
  },
  {
   "cell_type": "code",
   "execution_count": null,
   "metadata": {},
   "outputs": [],
   "source": []
  }
 ],
 "metadata": {
  "kernelspec": {
   "display_name": "Python 3",
   "language": "python",
   "name": "python3"
  },
  "language_info": {
   "codemirror_mode": {
    "name": "ipython",
    "version": 3
   },
   "file_extension": ".py",
   "mimetype": "text/x-python",
   "name": "python",
   "nbconvert_exporter": "python",
   "pygments_lexer": "ipython3",
   "version": "3.7.1"
  }
 },
 "nbformat": 4,
 "nbformat_minor": 2
}
