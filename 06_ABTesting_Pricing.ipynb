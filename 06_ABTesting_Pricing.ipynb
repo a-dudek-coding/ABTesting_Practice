{
 "cells": [
  {
   "cell_type": "code",
   "execution_count": null,
   "metadata": {},
   "outputs": [],
   "source": [
    "## General Structure for all Notebooks \n",
    "## 1) Describe the problem being tackled, source of data, output \n",
    "## 2) Import libraries/set up wd; general working setup\n",
    "## 3) Examine the quality of the data \n",
    "## 4) Build the right dataset \n",
    "## 5) Apply the structure"
   ]
  },
  {
   "cell_type": "markdown",
   "metadata": {
    "ExecuteTime": {
     "end_time": "2020-07-28T10:50:50.581497Z",
     "start_time": "2020-07-28T10:50:50.578821Z"
    }
   },
   "source": [
    "# Problem \n",
    "### What are we solving for?\n",
    "\n",
    "https://product-data-science.datamasked.com/courses/496549/lectures/9194606"
   ]
  },
  {
   "cell_type": "code",
   "execution_count": 5,
   "metadata": {
    "ExecuteTime": {
     "end_time": "2020-07-28T10:56:44.008378Z",
     "start_time": "2020-07-28T10:56:44.004354Z"
    }
   },
   "outputs": [
    {
     "name": "stdout",
     "output_type": "stream",
     "text": [
      "/Users/annadudek/00_DataMasked\n"
     ]
    }
   ],
   "source": [
    "import pandas as pd \n",
    "import numpy as np\n",
    "import os \n",
    "import datetime\n",
    "\n",
    "import warnings \n",
    "warnings.filterwarnings('ignore')\n",
    "\n",
    "from termcolor import colored \n",
    "import matplotlib as plt \n",
    "import seaborn as sns \n",
    "\n",
    "wd=os.getcwd()\n",
    "print(wd)"
   ]
  },
  {
   "cell_type": "code",
   "execution_count": null,
   "metadata": {},
   "outputs": [],
   "source": []
  }
 ],
 "metadata": {
  "kernelspec": {
   "display_name": "Python 3",
   "language": "python",
   "name": "python3"
  },
  "language_info": {
   "codemirror_mode": {
    "name": "ipython",
    "version": 3
   },
   "file_extension": ".py",
   "mimetype": "text/x-python",
   "name": "python",
   "nbconvert_exporter": "python",
   "pygments_lexer": "ipython3",
   "version": "3.7.1"
  }
 },
 "nbformat": 4,
 "nbformat_minor": 2
}
