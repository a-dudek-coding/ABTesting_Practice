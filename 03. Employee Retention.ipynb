{
 "cells": [
  {
   "cell_type": "code",
   "execution_count": null,
   "metadata": {
    "ExecuteTime": {
     "end_time": "2020-06-23T15:23:12.190742Z",
     "start_time": "2020-06-23T15:23:12.188584Z"
    }
   },
   "outputs": [],
   "source": [
    "## General Structure for all Notebooks \n",
    "## 1) Describe the problem being tackled, source of data, output \n",
    "## 2) Import libraries/set up wd; general working setup\n",
    "## 3) Examine the quality of the data \n",
    "## 4) Build the right dataset \n",
    "## 5) Apply the structure"
   ]
  },
  {
   "cell_type": "markdown",
   "metadata": {},
   "source": [
    "## Problem\n",
    "### what are we solving for?"
   ]
  },
  {
   "cell_type": "code",
   "execution_count": null,
   "metadata": {
    "ExecuteTime": {
     "end_time": "2020-06-25T08:41:31.111163Z",
     "start_time": "2020-06-25T08:41:31.108414Z"
    }
   },
   "outputs": [],
   "source": [
    "## The goal is to predict employee retention and understand its main drivers\n",
    "## Are they still an employee as of 2015/12/13 or have they quit = binary output \n",
    "\n",
    "## Data should be 2011/01/24 to 2015/12/13\n",
    "\n",
    "\n",
    "## ESTIMATING DAILY HEADCOUNT \n",
    "## Assume, for each company, that the headcount starts from zero on 2011/01/23.\n",
    "## Estimate employee headcount, for each company on each day, from 2011/01/24 to 2015/12/13.\n",
    "## That is, if by 2012/03/02 2000 people have joined company 1 and 1000 of them have already quit,\n",
    "## then company headcount on 2012/03/02 for company 1 would be 1000.\n",
    "## You should create a table with 3 columns: day, employee_headcount, company_id"
   ]
  },
  {
   "cell_type": "code",
   "execution_count": null,
   "metadata": {},
   "outputs": [],
   "source": [
    "### Solution: \n",
    "\n",
    "## Decision tree is preferred given that the explaniability rather than the predicability is more important "
   ]
  },
  {
   "cell_type": "code",
   "execution_count": 1,
   "metadata": {
    "ExecuteTime": {
     "end_time": "2020-06-26T09:55:28.770896Z",
     "start_time": "2020-06-26T09:55:27.616598Z"
    }
   },
   "outputs": [
    {
     "name": "stdout",
     "output_type": "stream",
     "text": [
      "/Users/annadudek/00_DataMasked\n"
     ]
    }
   ],
   "source": [
    "import pandas as pd \n",
    "import numpy as np \n",
    "import os, re \n",
    "import warnings\n",
    "warnings.filterwarnings('ignore')\n",
    "\n",
    "from datetime import datetime, timedelta\n",
    "\n",
    "import matplotlib.pyplot as plt\n",
    "import seaborn as sns\n",
    "\n",
    "from sklearn.model_selection import train_test_split\n",
    "from sklearn.ensemble import RandomForestClassifier\n",
    "from sklearn import metrics\n",
    "from sklearn.metrics import classification_report,confusion_matrix\n",
    "from sklearn.metrics import precision_recall_fscore_support as score\n",
    "\n",
    "import graphviz\n",
    "from sklearn.tree import DecisionTreeClassifier\n",
    "from sklearn.tree import export_graphviz\n",
    "from graphviz import Source\n",
    "\n",
    "\n",
    "\n",
    "wd = os.getcwd()\n",
    "print(wd)\n",
    "\n",
    "## Github with answers: https://github.com/JifuZhao/DS-Take-Home/blob/master/03.%20Employee%20Retention.ipynb "
   ]
  },
  {
   "cell_type": "markdown",
   "metadata": {},
   "source": [
    "## Data Quality\n"
   ]
  },
  {
   "cell_type": "code",
   "execution_count": 2,
   "metadata": {
    "ExecuteTime": {
     "end_time": "2020-06-26T09:55:29.798485Z",
     "start_time": "2020-06-26T09:55:28.773300Z"
    }
   },
   "outputs": [
    {
     "name": "stdout",
     "output_type": "stream",
     "text": [
      "   employee_id  company_id              dept  seniority    salary   join_date  \\\n",
      "0      13021.0           7  customer_service         28   89000.0  2014-03-24   \n",
      "1     825355.0           7         marketing         20  183000.0  2013-04-29   \n",
      "2     927315.0           4         marketing         14  101000.0  2014-10-13   \n",
      "3     662910.0           7  customer_service         20  115000.0  2012-05-14   \n",
      "4     256971.0           2      data_science         23  276000.0  2011-10-17   \n",
      "\n",
      "    quit_date  \n",
      "0  2015-10-30  \n",
      "1  2014-04-04  \n",
      "2         NaN  \n",
      "3  2013-06-07  \n",
      "4  2014-08-22  \n",
      "\n",
      "employee_id    float64\n",
      "company_id       int64\n",
      "dept            object\n",
      "seniority        int64\n",
      "salary         float64\n",
      "join_date       object\n",
      "quit_date       object\n",
      "dtype: object\n",
      "\n",
      "(24702, 7)\n",
      "If 24702 = 24702, then dataframe is at employee_id level\n"
     ]
    }
   ],
   "source": [
    "\n",
    "data_raw=pd.read_csv(\"https://drive.google.com/uc?export=download&id=1_5RXUSwsvEjh0_DelLhHa8znq_Q4_7uc\")\n",
    "\n",
    "\n",
    "print(data_raw.head())\n",
    "print('')\n",
    "print(data_raw.dtypes)\n",
    "\n",
    "print('')\n",
    "print(data_raw.shape)\n",
    "print(f\"If {len(data_raw)} = {len(data_raw.employee_id.unique())}, then dataframe is at employee_id level\")  \n",
    "\n",
    "## doing data.fillna on a NULL datafield ends up rewriting it as 1970-01-01 when it is turned to date\n",
    "# data_raw.fillna(0, inplace=True)\n",
    "# print(data_raw.describe())\n"
   ]
  },
  {
   "cell_type": "code",
   "execution_count": 3,
   "metadata": {
    "ExecuteTime": {
     "end_time": "2020-06-26T09:55:29.807589Z",
     "start_time": "2020-06-26T09:55:29.800136Z"
    }
   },
   "outputs": [],
   "source": [
    "### Drop outliers or truncate in depending on dataset size \n",
    "def outlier_management (data, columns): \n",
    "    \n",
    "    ## drop any columns which have fewer than 5 levels; assumption = they are categorical/boolean \n",
    "    for col in columns:\n",
    "        if len(data[col].unique())<=5:\n",
    "            columns.remove(col)\n",
    "        else: \n",
    "            print(f\"{[col]} is kept\")\n",
    "    print('')\n",
    "    print(columns)\n",
    "    print('')\n",
    "    col_zscore_list = []\n",
    "    \n",
    "    ### calculates z-scores for all numeric columns\n",
    "    for col in columns:\n",
    "        col_zscore = col + '_zscore'\n",
    "        col_zscore_list.append(col_zscore)\n",
    "        data[col_zscore] = abs((data[col] - data[col].mean())/data[col].std(ddof=0))\n",
    "    \n",
    "    ### drops or truncates depending on size \n",
    "    df_length = len(data)\n",
    "\n",
    "    if df_length>20000:\n",
    "        for col in col_zscore_list:\n",
    "#             df = data[(data[col] < 3).all(axis=1)]\n",
    "            data = data[data[col] < 3]\n",
    "        print('dataset too small; was truncated')\n",
    "    else:\n",
    "        print('test')\n",
    "\n",
    "    print(f\" Before outlier management :{df_length}; After outlier management {len(data)}\")  \n",
    "    print('')\n",
    "    print(f\" % of dataset retained :{len(data)/df_length}\")\n",
    "    return data\n",
    "\n",
    "\n",
    "def check_outlier_management(data, columns): \n",
    "    for col in columns: \n",
    "        print(f\" {col} : {data[col].max()}\")\n",
    "        print('')\n",
    "        \n",
    "    for col in columns: \n",
    "        data.drop([col], axis=1, inplace=True)\n",
    "    "
   ]
  },
  {
   "cell_type": "code",
   "execution_count": 4,
   "metadata": {
    "ExecuteTime": {
     "end_time": "2020-06-26T09:55:29.865218Z",
     "start_time": "2020-06-26T09:55:29.810931Z"
    }
   },
   "outputs": [
    {
     "name": "stdout",
     "output_type": "stream",
     "text": [
      "['employee_id'] is kept\n",
      "['company_id'] is kept\n",
      "['seniority'] is kept\n",
      "['salary'] is kept\n",
      "\n",
      "['employee_id', 'company_id', 'seniority', 'salary']\n",
      "\n",
      "dataset too small; was truncated\n",
      " Before outlier management :24702; After outlier management 24654\n",
      "\n",
      " % of dataset retained :0.9980568375030362\n",
      " employee_id_zscore : 1.7361124468571738\n",
      "\n",
      " company_id_zscore : 2.8048715012187997\n",
      "\n",
      " seniority_zscore : 1.8384895972609514\n",
      "\n",
      " salary_zscore : 2.9953550330064225\n",
      "\n"
     ]
    },
    {
     "data": {
      "text/html": [
       "<div>\n",
       "<style scoped>\n",
       "    .dataframe tbody tr th:only-of-type {\n",
       "        vertical-align: middle;\n",
       "    }\n",
       "\n",
       "    .dataframe tbody tr th {\n",
       "        vertical-align: top;\n",
       "    }\n",
       "\n",
       "    .dataframe thead th {\n",
       "        text-align: right;\n",
       "    }\n",
       "</style>\n",
       "<table border=\"1\" class=\"dataframe\">\n",
       "  <thead>\n",
       "    <tr style=\"text-align: right;\">\n",
       "      <th></th>\n",
       "      <th>employee_id</th>\n",
       "      <th>company_id</th>\n",
       "      <th>dept</th>\n",
       "      <th>seniority</th>\n",
       "      <th>salary</th>\n",
       "      <th>join_date</th>\n",
       "      <th>quit_date</th>\n",
       "    </tr>\n",
       "  </thead>\n",
       "  <tbody>\n",
       "    <tr>\n",
       "      <th>0</th>\n",
       "      <td>13021.0</td>\n",
       "      <td>7</td>\n",
       "      <td>customer_service</td>\n",
       "      <td>28</td>\n",
       "      <td>89000.0</td>\n",
       "      <td>2014-03-24</td>\n",
       "      <td>2015-10-30</td>\n",
       "    </tr>\n",
       "    <tr>\n",
       "      <th>1</th>\n",
       "      <td>825355.0</td>\n",
       "      <td>7</td>\n",
       "      <td>marketing</td>\n",
       "      <td>20</td>\n",
       "      <td>183000.0</td>\n",
       "      <td>2013-04-29</td>\n",
       "      <td>2014-04-04</td>\n",
       "    </tr>\n",
       "    <tr>\n",
       "      <th>2</th>\n",
       "      <td>927315.0</td>\n",
       "      <td>4</td>\n",
       "      <td>marketing</td>\n",
       "      <td>14</td>\n",
       "      <td>101000.0</td>\n",
       "      <td>2014-10-13</td>\n",
       "      <td>NaN</td>\n",
       "    </tr>\n",
       "    <tr>\n",
       "      <th>3</th>\n",
       "      <td>662910.0</td>\n",
       "      <td>7</td>\n",
       "      <td>customer_service</td>\n",
       "      <td>20</td>\n",
       "      <td>115000.0</td>\n",
       "      <td>2012-05-14</td>\n",
       "      <td>2013-06-07</td>\n",
       "    </tr>\n",
       "    <tr>\n",
       "      <th>4</th>\n",
       "      <td>256971.0</td>\n",
       "      <td>2</td>\n",
       "      <td>data_science</td>\n",
       "      <td>23</td>\n",
       "      <td>276000.0</td>\n",
       "      <td>2011-10-17</td>\n",
       "      <td>2014-08-22</td>\n",
       "    </tr>\n",
       "  </tbody>\n",
       "</table>\n",
       "</div>"
      ],
      "text/plain": [
       "   employee_id  company_id              dept  seniority    salary   join_date  \\\n",
       "0      13021.0           7  customer_service         28   89000.0  2014-03-24   \n",
       "1     825355.0           7         marketing         20  183000.0  2013-04-29   \n",
       "2     927315.0           4         marketing         14  101000.0  2014-10-13   \n",
       "3     662910.0           7  customer_service         20  115000.0  2012-05-14   \n",
       "4     256971.0           2      data_science         23  276000.0  2011-10-17   \n",
       "\n",
       "    quit_date  \n",
       "0  2015-10-30  \n",
       "1  2014-04-04  \n",
       "2         NaN  \n",
       "3  2013-06-07  \n",
       "4  2014-08-22  "
      ]
     },
     "execution_count": 4,
     "metadata": {},
     "output_type": "execute_result"
    }
   ],
   "source": [
    "## deal with the outliers \n",
    "data= outlier_management(data=data_raw, columns=data_raw.select_dtypes('number').columns.tolist())\n",
    "\n",
    "## check it was dealt with properly\n",
    "check_outlier_management(data=data, columns=data.filter(like='zscore').columns.to_list())\n",
    "\n",
    "\n",
    "data.head()  "
   ]
  },
  {
   "cell_type": "markdown",
   "metadata": {},
   "source": [
    "## Dataset Prep"
   ]
  },
  {
   "cell_type": "code",
   "execution_count": 5,
   "metadata": {
    "ExecuteTime": {
     "end_time": "2020-06-26T09:55:29.872802Z",
     "start_time": "2020-06-26T09:55:29.867360Z"
    }
   },
   "outputs": [],
   "source": [
    "## transformations\n",
    "\n",
    "def transform_to_dates(data):\n",
    "    \n",
    "    ## first check which object columns have \n",
    "#     initial_list = data.select_dtypes('object').columns.tolist()\n",
    "#     print(initial_list)\n",
    "\n",
    "#     string_check= re.compile('-/')\n",
    "#     for i in initial_list: \n",
    "        \n",
    "# #         if(string_check.search(data[i][1]) == None):\n",
    "# #         if(string_check.match(data[i][1]) == None):\n",
    "\n",
    "\n",
    "#         if((re.sub('\\W+','', data[i][1] )).isdigit()):\n",
    "#             data[i] = pd.to_datetime(data[i])\n",
    "#             print(f\" {i} made to date\")\n",
    "#         else: \n",
    "#             initial_list.remove(i)\n",
    "            \n",
    "    \n",
    "#     return data \n",
    "\n",
    "        to_transform_dates=data.filter(like='date').columns.to_list()\n",
    "        for i in to_transform_dates:\n",
    "            data[i] = pd.to_datetime(data[i])\n",
    "            \n",
    "        print(data.dtypes)    \n",
    "        return data\n",
    "\n",
    "#     print(initial_list)\n",
    "\n",
    "#     for i in initial_list:\n",
    "#         data[i] = pd.to_datetime(data[i])\n",
    "        \n",
    "#     return data  \n",
    "            \n",
    "\n",
    "\n",
    "def make_dummies(data): \n",
    "    dummies_list = []\n",
    "    variables=data.select_dtypes('object').columns.tolist()\n",
    "    \n",
    "    \n",
    "    for var in variables:   \n",
    "        dummies_list = pd.get_dummies(data[var]).rename(columns=lambda x: str(var) + '_' + str(x))\n",
    "#         .rename(columns=lambda x: 'Day_' + str(x))\n",
    "        data = data.join(dummies_list)\n",
    "        del dummies_list\n",
    "        \n",
    "    return data    \n",
    "    \n",
    "  "
   ]
  },
  {
   "cell_type": "code",
   "execution_count": 6,
   "metadata": {
    "ExecuteTime": {
     "end_time": "2020-06-26T09:56:38.964064Z",
     "start_time": "2020-06-26T09:56:38.912191Z"
    }
   },
   "outputs": [
    {
     "name": "stdout",
     "output_type": "stream",
     "text": [
      "employee_id           float64\n",
      "company_id              int64\n",
      "dept                   object\n",
      "seniority               int64\n",
      "salary                float64\n",
      "join_date      datetime64[ns]\n",
      "quit_date      datetime64[ns]\n",
      "dtype: object\n"
     ]
    },
    {
     "data": {
      "text/html": [
       "<div>\n",
       "<style scoped>\n",
       "    .dataframe tbody tr th:only-of-type {\n",
       "        vertical-align: middle;\n",
       "    }\n",
       "\n",
       "    .dataframe tbody tr th {\n",
       "        vertical-align: top;\n",
       "    }\n",
       "\n",
       "    .dataframe thead th {\n",
       "        text-align: right;\n",
       "    }\n",
       "</style>\n",
       "<table border=\"1\" class=\"dataframe\">\n",
       "  <thead>\n",
       "    <tr style=\"text-align: right;\">\n",
       "      <th></th>\n",
       "      <th>employee_id</th>\n",
       "      <th>company_id</th>\n",
       "      <th>dept</th>\n",
       "      <th>seniority</th>\n",
       "      <th>salary</th>\n",
       "      <th>join_date</th>\n",
       "      <th>quit_date</th>\n",
       "      <th>company_id_1</th>\n",
       "      <th>company_id_10</th>\n",
       "      <th>company_id_11</th>\n",
       "      <th>...</th>\n",
       "      <th>company_id_6</th>\n",
       "      <th>company_id_7</th>\n",
       "      <th>company_id_8</th>\n",
       "      <th>company_id_9</th>\n",
       "      <th>dept_customer_service</th>\n",
       "      <th>dept_data_science</th>\n",
       "      <th>dept_design</th>\n",
       "      <th>dept_engineer</th>\n",
       "      <th>dept_marketing</th>\n",
       "      <th>dept_sales</th>\n",
       "    </tr>\n",
       "  </thead>\n",
       "  <tbody>\n",
       "    <tr>\n",
       "      <th>0</th>\n",
       "      <td>13021.0</td>\n",
       "      <td>7</td>\n",
       "      <td>customer_service</td>\n",
       "      <td>28</td>\n",
       "      <td>89000.0</td>\n",
       "      <td>2014-03-24</td>\n",
       "      <td>2015-10-30</td>\n",
       "      <td>0</td>\n",
       "      <td>0</td>\n",
       "      <td>0</td>\n",
       "      <td>...</td>\n",
       "      <td>0</td>\n",
       "      <td>1</td>\n",
       "      <td>0</td>\n",
       "      <td>0</td>\n",
       "      <td>1</td>\n",
       "      <td>0</td>\n",
       "      <td>0</td>\n",
       "      <td>0</td>\n",
       "      <td>0</td>\n",
       "      <td>0</td>\n",
       "    </tr>\n",
       "    <tr>\n",
       "      <th>1</th>\n",
       "      <td>825355.0</td>\n",
       "      <td>7</td>\n",
       "      <td>marketing</td>\n",
       "      <td>20</td>\n",
       "      <td>183000.0</td>\n",
       "      <td>2013-04-29</td>\n",
       "      <td>2014-04-04</td>\n",
       "      <td>0</td>\n",
       "      <td>0</td>\n",
       "      <td>0</td>\n",
       "      <td>...</td>\n",
       "      <td>0</td>\n",
       "      <td>1</td>\n",
       "      <td>0</td>\n",
       "      <td>0</td>\n",
       "      <td>0</td>\n",
       "      <td>0</td>\n",
       "      <td>0</td>\n",
       "      <td>0</td>\n",
       "      <td>1</td>\n",
       "      <td>0</td>\n",
       "    </tr>\n",
       "    <tr>\n",
       "      <th>2</th>\n",
       "      <td>927315.0</td>\n",
       "      <td>4</td>\n",
       "      <td>marketing</td>\n",
       "      <td>14</td>\n",
       "      <td>101000.0</td>\n",
       "      <td>2014-10-13</td>\n",
       "      <td>NaT</td>\n",
       "      <td>0</td>\n",
       "      <td>0</td>\n",
       "      <td>0</td>\n",
       "      <td>...</td>\n",
       "      <td>0</td>\n",
       "      <td>0</td>\n",
       "      <td>0</td>\n",
       "      <td>0</td>\n",
       "      <td>0</td>\n",
       "      <td>0</td>\n",
       "      <td>0</td>\n",
       "      <td>0</td>\n",
       "      <td>1</td>\n",
       "      <td>0</td>\n",
       "    </tr>\n",
       "    <tr>\n",
       "      <th>3</th>\n",
       "      <td>662910.0</td>\n",
       "      <td>7</td>\n",
       "      <td>customer_service</td>\n",
       "      <td>20</td>\n",
       "      <td>115000.0</td>\n",
       "      <td>2012-05-14</td>\n",
       "      <td>2013-06-07</td>\n",
       "      <td>0</td>\n",
       "      <td>0</td>\n",
       "      <td>0</td>\n",
       "      <td>...</td>\n",
       "      <td>0</td>\n",
       "      <td>1</td>\n",
       "      <td>0</td>\n",
       "      <td>0</td>\n",
       "      <td>1</td>\n",
       "      <td>0</td>\n",
       "      <td>0</td>\n",
       "      <td>0</td>\n",
       "      <td>0</td>\n",
       "      <td>0</td>\n",
       "    </tr>\n",
       "    <tr>\n",
       "      <th>4</th>\n",
       "      <td>256971.0</td>\n",
       "      <td>2</td>\n",
       "      <td>data_science</td>\n",
       "      <td>23</td>\n",
       "      <td>276000.0</td>\n",
       "      <td>2011-10-17</td>\n",
       "      <td>2014-08-22</td>\n",
       "      <td>0</td>\n",
       "      <td>0</td>\n",
       "      <td>0</td>\n",
       "      <td>...</td>\n",
       "      <td>0</td>\n",
       "      <td>0</td>\n",
       "      <td>0</td>\n",
       "      <td>0</td>\n",
       "      <td>0</td>\n",
       "      <td>1</td>\n",
       "      <td>0</td>\n",
       "      <td>0</td>\n",
       "      <td>0</td>\n",
       "      <td>0</td>\n",
       "    </tr>\n",
       "  </tbody>\n",
       "</table>\n",
       "<p>5 rows × 24 columns</p>\n",
       "</div>"
      ],
      "text/plain": [
       "   employee_id company_id              dept  seniority    salary  join_date  \\\n",
       "0      13021.0          7  customer_service         28   89000.0 2014-03-24   \n",
       "1     825355.0          7         marketing         20  183000.0 2013-04-29   \n",
       "2     927315.0          4         marketing         14  101000.0 2014-10-13   \n",
       "3     662910.0          7  customer_service         20  115000.0 2012-05-14   \n",
       "4     256971.0          2      data_science         23  276000.0 2011-10-17   \n",
       "\n",
       "   quit_date  company_id_1  company_id_10  company_id_11  ...  company_id_6  \\\n",
       "0 2015-10-30             0              0              0  ...             0   \n",
       "1 2014-04-04             0              0              0  ...             0   \n",
       "2        NaT             0              0              0  ...             0   \n",
       "3 2013-06-07             0              0              0  ...             0   \n",
       "4 2014-08-22             0              0              0  ...             0   \n",
       "\n",
       "   company_id_7  company_id_8  company_id_9  dept_customer_service  \\\n",
       "0             1             0             0                      1   \n",
       "1             1             0             0                      0   \n",
       "2             0             0             0                      0   \n",
       "3             1             0             0                      1   \n",
       "4             0             0             0                      0   \n",
       "\n",
       "   dept_data_science  dept_design  dept_engineer  dept_marketing  dept_sales  \n",
       "0                  0            0              0               0           0  \n",
       "1                  0            0              0               1           0  \n",
       "2                  0            0              0               1           0  \n",
       "3                  0            0              0               0           0  \n",
       "4                  1            0              0               0           0  \n",
       "\n",
       "[5 rows x 24 columns]"
      ]
     },
     "execution_count": 6,
     "metadata": {},
     "output_type": "execute_result"
    }
   ],
   "source": [
    "\n",
    "## run the functions \n",
    "data = transform_to_dates(data=data)\n",
    "\n",
    "## change company id to object so that it can be a dummy variable as well2\n",
    "data['company_id']=data['company_id'].apply(str)\n",
    "\n",
    "data = make_dummies(data=data) \n",
    "\n",
    "data.head()"
   ]
  },
  {
   "cell_type": "code",
   "execution_count": 7,
   "metadata": {
    "ExecuteTime": {
     "end_time": "2020-06-26T09:56:42.775540Z",
     "start_time": "2020-06-26T09:56:42.738056Z"
    }
   },
   "outputs": [
    {
     "name": "stdout",
     "output_type": "stream",
     "text": [
      "eligible within model - unique values:[1]\n",
      "Columns with null values: Index(['quit_date', 'employment_length'], dtype='object')\n"
     ]
    },
    {
     "data": {
      "text/html": [
       "<div>\n",
       "<style scoped>\n",
       "    .dataframe tbody tr th:only-of-type {\n",
       "        vertical-align: middle;\n",
       "    }\n",
       "\n",
       "    .dataframe tbody tr th {\n",
       "        vertical-align: top;\n",
       "    }\n",
       "\n",
       "    .dataframe thead th {\n",
       "        text-align: right;\n",
       "    }\n",
       "</style>\n",
       "<table border=\"1\" class=\"dataframe\">\n",
       "  <thead>\n",
       "    <tr style=\"text-align: right;\">\n",
       "      <th></th>\n",
       "      <th>employee_id</th>\n",
       "      <th>company_id</th>\n",
       "      <th>dept</th>\n",
       "      <th>seniority</th>\n",
       "      <th>salary</th>\n",
       "      <th>join_date</th>\n",
       "      <th>quit_date</th>\n",
       "      <th>company_id_1</th>\n",
       "      <th>company_id_10</th>\n",
       "      <th>company_id_11</th>\n",
       "      <th>...</th>\n",
       "      <th>dept_customer_service</th>\n",
       "      <th>dept_data_science</th>\n",
       "      <th>dept_design</th>\n",
       "      <th>dept_engineer</th>\n",
       "      <th>dept_marketing</th>\n",
       "      <th>dept_sales</th>\n",
       "      <th>2YRs_from_enddate</th>\n",
       "      <th>eligible_within_model</th>\n",
       "      <th>employment_length</th>\n",
       "      <th>survived_2YRs</th>\n",
       "    </tr>\n",
       "  </thead>\n",
       "  <tbody>\n",
       "    <tr>\n",
       "      <th>1</th>\n",
       "      <td>825355.0</td>\n",
       "      <td>7</td>\n",
       "      <td>marketing</td>\n",
       "      <td>20</td>\n",
       "      <td>183000.0</td>\n",
       "      <td>2013-04-29</td>\n",
       "      <td>2014-04-04</td>\n",
       "      <td>0</td>\n",
       "      <td>0</td>\n",
       "      <td>0</td>\n",
       "      <td>...</td>\n",
       "      <td>0</td>\n",
       "      <td>0</td>\n",
       "      <td>0</td>\n",
       "      <td>0</td>\n",
       "      <td>1</td>\n",
       "      <td>0</td>\n",
       "      <td>958.0</td>\n",
       "      <td>1</td>\n",
       "      <td>340.0</td>\n",
       "      <td>0</td>\n",
       "    </tr>\n",
       "    <tr>\n",
       "      <th>3</th>\n",
       "      <td>662910.0</td>\n",
       "      <td>7</td>\n",
       "      <td>customer_service</td>\n",
       "      <td>20</td>\n",
       "      <td>115000.0</td>\n",
       "      <td>2012-05-14</td>\n",
       "      <td>2013-06-07</td>\n",
       "      <td>0</td>\n",
       "      <td>0</td>\n",
       "      <td>0</td>\n",
       "      <td>...</td>\n",
       "      <td>1</td>\n",
       "      <td>0</td>\n",
       "      <td>0</td>\n",
       "      <td>0</td>\n",
       "      <td>0</td>\n",
       "      <td>0</td>\n",
       "      <td>1308.0</td>\n",
       "      <td>1</td>\n",
       "      <td>389.0</td>\n",
       "      <td>0</td>\n",
       "    </tr>\n",
       "    <tr>\n",
       "      <th>4</th>\n",
       "      <td>256971.0</td>\n",
       "      <td>2</td>\n",
       "      <td>data_science</td>\n",
       "      <td>23</td>\n",
       "      <td>276000.0</td>\n",
       "      <td>2011-10-17</td>\n",
       "      <td>2014-08-22</td>\n",
       "      <td>0</td>\n",
       "      <td>0</td>\n",
       "      <td>0</td>\n",
       "      <td>...</td>\n",
       "      <td>0</td>\n",
       "      <td>1</td>\n",
       "      <td>0</td>\n",
       "      <td>0</td>\n",
       "      <td>0</td>\n",
       "      <td>0</td>\n",
       "      <td>1518.0</td>\n",
       "      <td>1</td>\n",
       "      <td>1040.0</td>\n",
       "      <td>1</td>\n",
       "    </tr>\n",
       "    <tr>\n",
       "      <th>5</th>\n",
       "      <td>509529.0</td>\n",
       "      <td>4</td>\n",
       "      <td>data_science</td>\n",
       "      <td>14</td>\n",
       "      <td>165000.0</td>\n",
       "      <td>2012-01-30</td>\n",
       "      <td>2013-08-30</td>\n",
       "      <td>0</td>\n",
       "      <td>0</td>\n",
       "      <td>0</td>\n",
       "      <td>...</td>\n",
       "      <td>0</td>\n",
       "      <td>1</td>\n",
       "      <td>0</td>\n",
       "      <td>0</td>\n",
       "      <td>0</td>\n",
       "      <td>0</td>\n",
       "      <td>1413.0</td>\n",
       "      <td>1</td>\n",
       "      <td>578.0</td>\n",
       "      <td>0</td>\n",
       "    </tr>\n",
       "    <tr>\n",
       "      <th>6</th>\n",
       "      <td>88600.0</td>\n",
       "      <td>4</td>\n",
       "      <td>customer_service</td>\n",
       "      <td>21</td>\n",
       "      <td>107000.0</td>\n",
       "      <td>2013-10-21</td>\n",
       "      <td>NaT</td>\n",
       "      <td>0</td>\n",
       "      <td>0</td>\n",
       "      <td>0</td>\n",
       "      <td>...</td>\n",
       "      <td>1</td>\n",
       "      <td>0</td>\n",
       "      <td>0</td>\n",
       "      <td>0</td>\n",
       "      <td>0</td>\n",
       "      <td>0</td>\n",
       "      <td>783.0</td>\n",
       "      <td>1</td>\n",
       "      <td>NaN</td>\n",
       "      <td>0</td>\n",
       "    </tr>\n",
       "  </tbody>\n",
       "</table>\n",
       "<p>5 rows × 28 columns</p>\n",
       "</div>"
      ],
      "text/plain": [
       "   employee_id company_id              dept  seniority    salary  join_date  \\\n",
       "1     825355.0          7         marketing         20  183000.0 2013-04-29   \n",
       "3     662910.0          7  customer_service         20  115000.0 2012-05-14   \n",
       "4     256971.0          2      data_science         23  276000.0 2011-10-17   \n",
       "5     509529.0          4      data_science         14  165000.0 2012-01-30   \n",
       "6      88600.0          4  customer_service         21  107000.0 2013-10-21   \n",
       "\n",
       "   quit_date  company_id_1  company_id_10  company_id_11  ...  \\\n",
       "1 2014-04-04             0              0              0  ...   \n",
       "3 2013-06-07             0              0              0  ...   \n",
       "4 2014-08-22             0              0              0  ...   \n",
       "5 2013-08-30             0              0              0  ...   \n",
       "6        NaT             0              0              0  ...   \n",
       "\n",
       "   dept_customer_service  dept_data_science  dept_design  dept_engineer  \\\n",
       "1                      0                  0            0              0   \n",
       "3                      1                  0            0              0   \n",
       "4                      0                  1            0              0   \n",
       "5                      0                  1            0              0   \n",
       "6                      1                  0            0              0   \n",
       "\n",
       "   dept_marketing  dept_sales  2YRs_from_enddate  eligible_within_model  \\\n",
       "1               1           0              958.0                      1   \n",
       "3               0           0             1308.0                      1   \n",
       "4               0           0             1518.0                      1   \n",
       "5               0           0             1413.0                      1   \n",
       "6               0           0              783.0                      1   \n",
       "\n",
       "   employment_length  survived_2YRs  \n",
       "1              340.0              0  \n",
       "3              389.0              0  \n",
       "4             1040.0              1  \n",
       "5              578.0              0  \n",
       "6                NaN              0  \n",
       "\n",
       "[5 rows x 28 columns]"
      ]
     },
     "execution_count": 7,
     "metadata": {},
     "output_type": "execute_result"
    }
   ],
   "source": [
    "## what is the dependant variable? \n",
    "\n",
    "## have they survived 1YR, 2YRs, 3YRs from being hired?\n",
    "## will work with 2YR time frame \n",
    "\n",
    "## are they eligible for the model?\n",
    "data['2YRs_from_enddate'] = abs((data['join_date'] - pd.to_datetime('2015-12-13'))/timedelta (days=1))\n",
    "data['eligible_within_model']= np.where(data['2YRs_from_enddate'] >=(365*2), 1, 0)\n",
    "\n",
    "## how long were they employees?\n",
    "data['employment_length']=(data['quit_date']-data['join_date'])/ timedelta (days=1)\n",
    "data['survived_2YRs']= np.where(data['employment_length'] >=(365*2), 1, 0)\n",
    "\n",
    "\n",
    "## filter our anyone that has had the ability to be there for minimum two years \n",
    "data_model= data[data['eligible_within_model'] == 1]\n",
    "print(f\"eligible within model - unique values:{data_model.eligible_within_model.unique()}\")\n",
    "\n",
    "## are there any null values for any columns \n",
    "print(f\"Columns with null values: {data_model.columns[data_model.isnull().any()]}\")\n",
    "\n",
    "data_model.head()\n"
   ]
  },
  {
   "cell_type": "markdown",
   "metadata": {},
   "source": [
    "## Investigate Tenure and Survival"
   ]
  },
  {
   "cell_type": "code",
   "execution_count": 8,
   "metadata": {
    "ExecuteTime": {
     "end_time": "2020-06-26T09:56:45.322329Z",
     "start_time": "2020-06-26T09:56:45.316517Z"
    }
   },
   "outputs": [
    {
     "name": "stdout",
     "output_type": "stream",
     "text": [
      "survived_2YRs\n",
      "0    20406\n",
      "1     4248\n",
      "dtype: int64\n"
     ]
    }
   ],
   "source": [
    "print(data.groupby('survived_2YRs').size()) "
   ]
  },
  {
   "cell_type": "code",
   "execution_count": 9,
   "metadata": {
    "ExecuteTime": {
     "end_time": "2020-06-26T09:56:45.808258Z",
     "start_time": "2020-06-26T09:56:45.514130Z"
    }
   },
   "outputs": [
    {
     "data": {
      "image/png": "[encoded data removed]",
      "text/plain": [
       "<Figure size 432x288 with 1 Axes>"
      ]
     },
     "metadata": {
      "needs_background": "light"
     },
     "output_type": "display_data"
    }
   ],
   "source": [
    "plt.hist(data_model['employment_length'], bins=100)\n",
    "plt.show()\n"
   ]
  },
  {
   "cell_type": "code",
   "execution_count": 10,
   "metadata": {
    "ExecuteTime": {
     "end_time": "2020-06-26T09:56:46.234587Z",
     "start_time": "2020-06-26T09:56:45.810395Z"
    }
   },
   "outputs": [
    {
     "name": "stdout",
     "output_type": "stream",
     "text": [
      " correlation: -0.1503797266396306\n"
     ]
    },
    {
     "data": {
      "image/png": "[encoded data removed]",
      "text/plain": [
       "<Figure size 432x288 with 1 Axes>"
      ]
     },
     "metadata": {
      "needs_background": "light"
     },
     "output_type": "display_data"
    },
    {
     "data": {
      "text/plain": [
       "<matplotlib.axes._subplots.AxesSubplot at 0x125d45668>"
      ]
     },
     "execution_count": 10,
     "metadata": {},
     "output_type": "execute_result"
    },
    {
     "data": {
      "image/png": "[encoded data removed]",
      "text/plain": [
       "<Figure size 432x288 with 1 Axes>"
      ]
     },
     "metadata": {
      "needs_background": "light"
     },
     "output_type": "display_data"
    }
   ],
   "source": [
    "grouped = data[['seniority', 'survived_2YRs']].groupby('seniority').mean().reset_index()\n",
    "\n",
    "print(f\" correlation: {grouped.seniority.corr(grouped.survived_2YRs)}\")\n",
    "\n",
    "## plot 1: line graph \n",
    "plt.plot(grouped['seniority'], grouped['survived_2YRs'], '.-')\n",
    "plt.title('% Survival vs Seniority',fontsize = 16)\n",
    "plt.xlabel('Seniority (YRs)', fontsize = 14)\n",
    "plt.ylabel('Survival %', fontsize = 14)\n",
    "plt.grid(True)\n",
    "plt.show()\n",
    "\n",
    "## plot 2 : scatterplot with line of best fit \n",
    "sns.regplot(grouped['seniority'], \n",
    "            grouped['survived_2YRs'], fit_reg=True)"
   ]
  },
  {
   "cell_type": "code",
   "execution_count": 11,
   "metadata": {
    "ExecuteTime": {
     "end_time": "2020-06-26T09:56:46.757160Z",
     "start_time": "2020-06-26T09:56:46.237261Z"
    }
   },
   "outputs": [
    {
     "name": "stdout",
     "output_type": "stream",
     "text": [
      " correlation: 0.29296092262040213\n"
     ]
    },
    {
     "data": {
      "image/png": "[encoded data removed]",
      "text/plain": [
       "<Figure size 432x288 with 1 Axes>"
      ]
     },
     "metadata": {
      "needs_background": "light"
     },
     "output_type": "display_data"
    },
    {
     "data": {
      "text/plain": [
       "<matplotlib.axes._subplots.AxesSubplot at 0x125dcb6a0>"
      ]
     },
     "execution_count": 11,
     "metadata": {},
     "output_type": "execute_result"
    },
    {
     "data": {
      "image/png": "[encoded data removed]",
      "text/plain": [
       "<Figure size 432x288 with 1 Axes>"
      ]
     },
     "metadata": {
      "needs_background": "light"
     },
     "output_type": "display_data"
    }
   ],
   "source": [
    "grouped = data[['salary', 'survived_2YRs']].groupby('salary').mean().reset_index()\n",
    "\n",
    "print(f\" correlation: {grouped.salary.corr(grouped.survived_2YRs)}\")\n",
    "\n",
    "## plot 1: line graph \n",
    "plt.plot(grouped['salary'], grouped['survived_2YRs'], '.-')\n",
    "plt.title('% Survival vs Salary',fontsize = 16)\n",
    "plt.xlabel('Salary $', fontsize = 14)\n",
    "plt.ylabel('Survival %', fontsize = 14)\n",
    "plt.grid(True)\n",
    "\n",
    "plt.show()\n",
    "\n",
    "## plot 2 : scatterplot with line of best fit \n",
    "sns.regplot(grouped['salary'], \n",
    "            grouped['survived_2YRs'], fit_reg=True)"
   ]
  },
  {
   "cell_type": "code",
   "execution_count": 12,
   "metadata": {
    "ExecuteTime": {
     "end_time": "2020-06-26T09:56:47.283744Z",
     "start_time": "2020-06-26T09:56:46.815694Z"
    }
   },
   "outputs": [
    {
     "data": {
      "text/plain": [
       "Text(0.5, 1.0, '% Survival vs Dept')"
      ]
     },
     "execution_count": 12,
     "metadata": {},
     "output_type": "execute_result"
    },
    {
     "data": {
      "image/png": "[encoded data removed]",
      "text/plain": [
       "<Figure size 576x432 with 1 Axes>"
      ]
     },
     "metadata": {
      "needs_background": "light"
     },
     "output_type": "display_data"
    }
   ],
   "source": [
    "# Conversion by Dept\n",
    "plt.figure(figsize=(8,6))\n",
    "sns.barplot(x='dept', y='survived_2YRs', data=data_model)\n",
    "plt.title('% Survival vs Dept',fontsize = 16)"
   ]
  },
  {
   "cell_type": "markdown",
   "metadata": {},
   "source": [
    "## Daily Headcount Table\n"
   ]
  },
  {
   "cell_type": "code",
   "execution_count": 13,
   "metadata": {
    "ExecuteTime": {
     "end_time": "2020-06-26T09:56:49.138318Z",
     "start_time": "2020-06-26T09:56:49.096087Z"
    }
   },
   "outputs": [
    {
     "data": {
      "text/html": [
       "<div>\n",
       "<style scoped>\n",
       "    .dataframe tbody tr th:only-of-type {\n",
       "        vertical-align: middle;\n",
       "    }\n",
       "\n",
       "    .dataframe tbody tr th {\n",
       "        vertical-align: top;\n",
       "    }\n",
       "\n",
       "    .dataframe thead th {\n",
       "        text-align: right;\n",
       "    }\n",
       "</style>\n",
       "<table border=\"1\" class=\"dataframe\">\n",
       "  <thead>\n",
       "    <tr style=\"text-align: right;\">\n",
       "      <th></th>\n",
       "      <th>date</th>\n",
       "      <th>company_id</th>\n",
       "      <th>join_count</th>\n",
       "      <th>quit_count</th>\n",
       "    </tr>\n",
       "  </thead>\n",
       "  <tbody>\n",
       "    <tr>\n",
       "      <th>0</th>\n",
       "      <td>2011-01-24</td>\n",
       "      <td>7</td>\n",
       "      <td>1.0</td>\n",
       "      <td>0.0</td>\n",
       "    </tr>\n",
       "    <tr>\n",
       "      <th>1</th>\n",
       "      <td>2011-01-24</td>\n",
       "      <td>4</td>\n",
       "      <td>12.0</td>\n",
       "      <td>0.0</td>\n",
       "    </tr>\n",
       "    <tr>\n",
       "      <th>2</th>\n",
       "      <td>2011-01-24</td>\n",
       "      <td>2</td>\n",
       "      <td>17.0</td>\n",
       "      <td>0.0</td>\n",
       "    </tr>\n",
       "    <tr>\n",
       "      <th>3</th>\n",
       "      <td>2011-01-24</td>\n",
       "      <td>9</td>\n",
       "      <td>3.0</td>\n",
       "      <td>0.0</td>\n",
       "    </tr>\n",
       "    <tr>\n",
       "      <th>4</th>\n",
       "      <td>2011-01-24</td>\n",
       "      <td>1</td>\n",
       "      <td>25.0</td>\n",
       "      <td>0.0</td>\n",
       "    </tr>\n",
       "  </tbody>\n",
       "</table>\n",
       "</div>"
      ],
      "text/plain": [
       "        date company_id  join_count  quit_count\n",
       "0 2011-01-24          7         1.0         0.0\n",
       "1 2011-01-24          4        12.0         0.0\n",
       "2 2011-01-24          2        17.0         0.0\n",
       "3 2011-01-24          9         3.0         0.0\n",
       "4 2011-01-24          1        25.0         0.0"
      ]
     },
     "execution_count": 13,
     "metadata": {},
     "output_type": "execute_result"
    }
   ],
   "source": [
    "## Individual dataframes: \n",
    "\n",
    "## 1. daily table by company; cartesian project\n",
    "## 2. daily_joins to company\n",
    "## 3. daily leaving from company \n",
    "\n",
    "###########################  1. daily table by company; cartesian project\n",
    "unique_dates = pd.date_range(start='2011/01/24', end='2015/12/13')\n",
    "unique_companies = data['company_id'].unique()\n",
    "  \n",
    "data_headcount = pd.MultiIndex.from_product([unique_dates, unique_companies], names = [\"date\", \"company_id\"])\n",
    "data_headcount = pd.DataFrame(index = data_headcount).reset_index()\n",
    "data_headcount.head()\n",
    "\n",
    "###########################  2. daily_joins to company\n",
    "data_join = data_model.groupby(['join_date', 'company_id']).size().reset_index(name='join_count')\n",
    "data_join.columns.values[0]='date'\n",
    "\n",
    "###########################  3. daily leaving from company \n",
    "data_quit = data_model.groupby(['quit_date', 'company_id']).size().reset_index(name='quit_count')\n",
    "data_quit.columns.values[0]='date'\n",
    "\n",
    "\n",
    "\n",
    "###########################  Join all together \n",
    "\n",
    "data_headcount=pd.merge(data_headcount, data_join, how ='left',on = ['date', 'company_id'])\n",
    "data_headcount=pd.merge(data_headcount, data_quit, how ='left',on = ['date', 'company_id'])\n",
    "data_headcount.fillna(0, inplace=True)\n",
    "data_headcount.head()"
   ]
  },
  {
   "cell_type": "code",
   "execution_count": 14,
   "metadata": {
    "ExecuteTime": {
     "end_time": "2020-06-26T09:56:52.045506Z",
     "start_time": "2020-06-26T09:56:52.022025Z"
    }
   },
   "outputs": [],
   "source": [
    "## figure out what the daily headcount was \n",
    "data_headcount.sort_values(['company_id', 'date'], ascending=[True, True], inplace=True)\n",
    "\n",
    "data_headcount['cumsum_join'] = data_headcount.groupby(['company_id'])['join_count'].apply(lambda x: x.cumsum())\n",
    "data_headcount['cumsum_quit'] = data_headcount.groupby(['company_id'])['quit_count'].apply(lambda x: x.cumsum())\n",
    "\n",
    "data_headcount['count'] = data_headcount['cumsum_join'] - data_headcount['cumsum_quit']\n",
    "data_headcount_table = data_headcount[[\"date\", \"company_id\",\"count\"]]"
   ]
  },
  {
   "cell_type": "markdown",
   "metadata": {},
   "source": [
    "## Churn Prediction - Random Forest"
   ]
  },
  {
   "cell_type": "code",
   "execution_count": 15,
   "metadata": {
    "ExecuteTime": {
     "end_time": "2020-06-26T09:57:02.396799Z",
     "start_time": "2020-06-26T09:57:02.388637Z"
    }
   },
   "outputs": [
    {
     "name": "stdout",
     "output_type": "stream",
     "text": [
      "(10223, 28)\n",
      "(4382, 28)\n",
      "Index(['employee_id', 'company_id', 'dept', 'seniority', 'salary', 'join_date',\n",
      "       'quit_date', 'company_id_1', 'company_id_10', 'company_id_11',\n",
      "       'company_id_2', 'company_id_3', 'company_id_4', 'company_id_5',\n",
      "       'company_id_6', 'company_id_7', 'company_id_8', 'company_id_9',\n",
      "       'dept_customer_service', 'dept_data_science', 'dept_design',\n",
      "       'dept_engineer', 'dept_marketing', 'dept_sales', '2YRs_from_enddate',\n",
      "       'eligible_within_model', 'employment_length', 'survived_2YRs'],\n",
      "      dtype='object')\n"
     ]
    }
   ],
   "source": [
    "## split into train and test sets \n",
    "train, test = train_test_split(data_model, test_size=0.3, random_state=42)\n",
    "print(train.shape)\n",
    "print(test.shape)\n",
    "\n",
    "## prepare variables\n",
    "print(data_model.columns)"
   ]
  },
  {
   "cell_type": "code",
   "execution_count": 19,
   "metadata": {
    "ExecuteTime": {
     "end_time": "2020-06-26T10:01:47.313695Z",
     "start_time": "2020-06-26T10:01:46.208799Z"
    }
   },
   "outputs": [],
   "source": [
    "y_actual='survived_2YRs'\n",
    "variables_to_use = ['seniority', 'salary','company_id_1', 'company_id_10', \n",
    "                    'company_id_11','company_id_2', 'company_id_3', 'company_id_4',\n",
    "                    'company_id_5','company_id_6', 'company_id_7', 'company_id_8',\n",
    "                    'company_id_9','dept_customer_service', 'dept_data_science',\n",
    "                    'dept_design','dept_engineer', 'dept_marketing', 'dept_sales']\n",
    "\n",
    "X_train = train[variables_to_use]\n",
    "y_train = train[y_actual]\n",
    "\n",
    "X_test = test[variables_to_use]\n",
    "y_test = test[y_actual]\n",
    "\n",
    "\n",
    "\n",
    "\n",
    "clf=RandomForestClassifier(n_estimators=100, max_features = 5, oob_score=True)\n",
    "\n",
    "## Train the model \n",
    "clf.fit(X_train,y_train)\n",
    "\n",
    "\n",
    "## Predictions \n",
    "y_pred = clf.predict(X_test)\n",
    "test['y_hat']= clf.predict(X_test)\n"
   ]
  },
  {
   "cell_type": "code",
   "execution_count": 20,
   "metadata": {
    "ExecuteTime": {
     "end_time": "2020-06-26T10:01:48.523272Z",
     "start_time": "2020-06-26T10:01:48.443381Z"
    }
   },
   "outputs": [
    {
     "name": "stdout",
     "output_type": "stream",
     "text": [
      "Accuracy: 0.617298037425833\n",
      "Out of Bag Score: 0.6338648146336692\n",
      "\n",
      "Feature Importance sorted: \n",
      "salary                   0.631012\n",
      "seniority                0.267440\n",
      "company_id_1             0.009765\n",
      "company_id_3             0.008008\n",
      "company_id_4             0.007843\n",
      "company_id_2             0.007811\n",
      "company_id_6             0.007072\n",
      "company_id_5             0.006605\n",
      "company_id_7             0.006564\n",
      "company_id_8             0.006316\n",
      "company_id_10            0.005786\n",
      "company_id_9             0.005612\n",
      "dept_sales               0.005584\n",
      "dept_marketing           0.005451\n",
      "dept_engineer            0.005156\n",
      "dept_data_science        0.004922\n",
      "dept_design              0.004838\n",
      "dept_customer_service    0.003515\n",
      "company_id_11            0.000698\n",
      "dtype: float64\n",
      "\n",
      "confusion matrix - absolute values\n",
      "Predicted     0    1   All\n",
      "Actual                    \n",
      "0          2431  664  3095\n",
      "1          1013  274  1287\n",
      "All        3444  938  4382\n",
      "\n",
      "confusion matrix - % values\n",
      "Predicted         0         1       All\n",
      "Actual                                 \n",
      "0          0.392730  0.257964  0.353149\n",
      "1          0.163651  0.106449  0.146851\n",
      "All        0.556381  0.364413  0.500000\n"
     ]
    },
    {
     "data": {
      "text/html": [
       "<div>\n",
       "<style scoped>\n",
       "    .dataframe tbody tr th:only-of-type {\n",
       "        vertical-align: middle;\n",
       "    }\n",
       "\n",
       "    .dataframe tbody tr th {\n",
       "        vertical-align: top;\n",
       "    }\n",
       "\n",
       "    .dataframe thead th {\n",
       "        text-align: right;\n",
       "    }\n",
       "</style>\n",
       "<table border=\"1\" class=\"dataframe\">\n",
       "  <thead>\n",
       "    <tr style=\"text-align: right;\">\n",
       "      <th></th>\n",
       "      <th>metric</th>\n",
       "      <th>not_converted</th>\n",
       "      <th>converted</th>\n",
       "    </tr>\n",
       "  </thead>\n",
       "  <tbody>\n",
       "    <tr>\n",
       "      <th>0</th>\n",
       "      <td>precision</td>\n",
       "      <td>0.705865</td>\n",
       "      <td>0.292111</td>\n",
       "    </tr>\n",
       "    <tr>\n",
       "      <th>1</th>\n",
       "      <td>recall</td>\n",
       "      <td>0.785460</td>\n",
       "      <td>0.212898</td>\n",
       "    </tr>\n",
       "    <tr>\n",
       "      <th>2</th>\n",
       "      <td>fscore</td>\n",
       "      <td>0.743539</td>\n",
       "      <td>0.246292</td>\n",
       "    </tr>\n",
       "    <tr>\n",
       "      <th>3</th>\n",
       "      <td>support</td>\n",
       "      <td>3095.000000</td>\n",
       "      <td>1287.000000</td>\n",
       "    </tr>\n",
       "  </tbody>\n",
       "</table>\n",
       "</div>"
      ],
      "text/plain": [
       "      metric  not_converted    converted\n",
       "0  precision       0.705865     0.292111\n",
       "1     recall       0.785460     0.212898\n",
       "2     fscore       0.743539     0.246292\n",
       "3    support    3095.000000  1287.000000"
      ]
     },
     "execution_count": 20,
     "metadata": {},
     "output_type": "execute_result"
    }
   ],
   "source": [
    "\n",
    "print(\"Accuracy:\",metrics.accuracy_score(y_test, y_pred))\n",
    "print (\"Out of Bag Score:\", clf.oob_score_)\n",
    "## which features are important \n",
    "feature_imp = pd.Series(clf.feature_importances_,\n",
    "                        index=variables_to_use).sort_values(ascending=False)\n",
    "print('')\n",
    "print('Feature Importance sorted: ')\n",
    "print(feature_imp)\n",
    "\n",
    "\n",
    "## confusion matrix \n",
    "confusion_matrix(test[y_actual], test['y_hat']) \n",
    "\n",
    "df_confusion = pd.crosstab(test[y_actual], test['y_hat'],\n",
    "                           rownames=['Actual'], colnames=['Predicted'], margins=True)\n",
    "print('')\n",
    "print('confusion matrix - absolute values')\n",
    "print(df_confusion)\n",
    "\n",
    "print('')\n",
    "print('confusion matrix - % values')\n",
    "print(df_confusion / df_confusion.sum(axis=1))       ### represented as a percentage \n",
    "\n",
    "\n",
    "## Prediction v Recall \n",
    "precision, recall, fscore, support = score(test[y_actual], test['y_hat'],labels=[0,1])\n",
    "\n",
    "\n",
    "## Precision: % of results that are TP of all the records identified positively. TP/(TP + FP) \n",
    "## Recall: % of results that are TP from all records that are TP and which were missed as TP (FN). TP/(TP + FN)\n",
    "## Accuracy: % of all positives and negatives identified correctly (TP + TN)/total records\n",
    "## F1-Score: \n",
    "## Support: \n",
    "\n",
    "\n",
    "classification_report= pd.DataFrame(columns = ('metric', 'not_converted', 'converted'))\n",
    "\n",
    "classification_report.loc[0] = ['precision', precision[0], precision[1]]\n",
    "classification_report.loc[1] = ['recall', recall[0], recall[1]]\n",
    "classification_report.loc[2] = ['fscore', fscore[0], fscore[1]]\n",
    "classification_report.loc[3] = ['support', support[0], support[1]]\n",
    "\n",
    "classification_report\n"
   ]
  },
  {
   "cell_type": "markdown",
   "metadata": {},
   "source": [
    "## Decision Tree Solution "
   ]
  },
  {
   "cell_type": "code",
   "execution_count": 34,
   "metadata": {
    "ExecuteTime": {
     "end_time": "2020-06-26T10:36:13.861031Z",
     "start_time": "2020-06-26T10:36:13.847114Z"
    }
   },
   "outputs": [
    {
     "data": {
      "text/plain": [
       "DecisionTreeClassifier(class_weight='balanced', criterion='gini', max_depth=4,\n",
       "            max_features=None, max_leaf_nodes=None,\n",
       "            min_impurity_decrease=0.001, min_impurity_split=None,\n",
       "            min_samples_leaf=30, min_samples_split=2,\n",
       "            min_weight_fraction_leaf=0.0, presort=False, random_state=None,\n",
       "            splitter='best')"
      ]
     },
     "execution_count": 34,
     "metadata": {},
     "output_type": "execute_result"
    }
   ],
   "source": [
    "## Decision Tree Solution \n",
    "Dtree = DecisionTreeClassifier( max_depth=4, min_samples_leaf = 30,\n",
    "                              class_weight=\"balanced\", min_impurity_decrease = 0.001)\n",
    "Dtree.fit(X_train,y_train)"
   ]
  },
  {
   "cell_type": "code",
   "execution_count": 47,
   "metadata": {
    "ExecuteTime": {
     "end_time": "2020-06-26T10:45:22.914599Z",
     "start_time": "2020-06-26T10:45:21.148700Z"
    }
   },
   "outputs": [
    {
     "data": {
      "image/png": "[encoded data removed]",
      "text/plain": [
       "<Figure size 1008x1296 with 1 Axes>"
      ]
     },
     "metadata": {
      "needs_background": "light"
     },
     "output_type": "display_data"
    }
   ],
   "source": [
    "## Visualizing \n",
    "export_graphviz(tree, out_file=\"tree_employee.dot\", feature_names=train[variables_to_use].columns,\n",
    "                proportion=True, rotate=False)\n",
    "\n",
    "# Convert to png\n",
    "from subprocess import call\n",
    "call(['dot', '-Tpng', 'tree_employee.dot', '-o', 'tree_employee.png', '-Gdpi=600'])\n",
    "\n",
    "# Display in python\n",
    "plt.figure(figsize = (14, 18))\n",
    "plt.imshow(plt.imread('tree_employee.png'))\n",
    "plt.axis('off');\n",
    "plt.show();\n"
   ]
  },
  {
   "cell_type": "code",
   "execution_count": null,
   "metadata": {},
   "outputs": [],
   "source": []
  }
 ],
 "metadata": {
  "kernelspec": {
   "display_name": "Python 3",
   "language": "python",
   "name": "python3"
  },
  "language_info": {
   "codemirror_mode": {
    "name": "ipython",
    "version": 3
   },
   "file_extension": ".py",
   "mimetype": "text/x-python",
   "name": "python",
   "nbconvert_exporter": "python",
   "pygments_lexer": "ipython3",
   "version": "3.7.1"
  }
 },
 "nbformat": 4,
 "nbformat_minor": 2
}
